{
 "cells": [
  {
   "cell_type": "markdown",
   "metadata": {},
   "source": [
    "# <center>ANALYSIS ON VARIANT PRICES OF BOOKS BASED ON THEIR CATEGORIES</center>"
   ]
  },
  {
   "cell_type": "markdown",
   "metadata": {},
   "source": [
    "<h3><center> Part 1:   Data Cleaning  </center></h3>"
   ]
  },
  {
   "cell_type": "markdown",
   "metadata": {},
   "source": [
    "<h3>Brief Description</h3>\n",
    "\n",
    "The Dataset in used for this analysis was gotten from an hosted competition in www.machinehack.com, the objective of the competition is to build a machine learnig model to predict the price of books based on a given set of features. these books are of different genres, from thousand of authors"
   ]
  },
  {
   "cell_type": "markdown",
   "metadata": {},
   "source": [
    "features of the data provided:\n",
    "<ul>\n",
    "    <li>Title</li>\n",
    "    <li>Author</li>\n",
    "    <li>Edition</li>\n",
    "    <li>Reviews</li>\n",
    "    <li>Ratings</li>\n",
    "    <li>Synopsis</li>\n",
    "    <li>Genre</li>\n",
    "    <li>BookCategory</li>\n",
    "    <li>Price</li>\n",
    "\n",
    "</ul>\n",
    "\n",
    "\n",
    "The above features as provided in the data, appears messy, hence conducting any form of data analysis or modelling with the data would be challenging, so there is need for proper data cleaning before deriving insights.\n",
    "\n",
    "This Notebook focuses more on data cleaning.|\n"
   ]
  },
  {
   "cell_type": "markdown",
   "metadata": {},
   "source": [
    "<h4>Importing neccessary packages and reading in the data</h4>"
   ]
  },
  {
   "cell_type": "code",
   "execution_count": 1,
   "metadata": {},
   "outputs": [],
   "source": [
    "import pandas as pd\n",
    "import numpy as np\n",
    "pd.set_option('max_columns', None)"
   ]
  },
  {
   "cell_type": "code",
   "execution_count": 2,
   "metadata": {},
   "outputs": [],
   "source": [
    "train = pd.read_excel('Data_Train.xlsx')\n",
    "test = pd.read_excel('Data_Test.xlsx')\n",
    "sub = pd.read_excel('Sample_Submission.xlsx')"
   ]
  },
  {
   "cell_type": "code",
   "execution_count": 3,
   "metadata": {},
   "outputs": [
    {
     "name": "stdout",
     "output_type": "stream",
     "text": [
      "(6237, 9)\n",
      "(1560, 8)\n"
     ]
    }
   ],
   "source": [
    "print(train.shape)\n",
    "print(test.shape)"
   ]
  },
  {
   "cell_type": "code",
   "execution_count": 4,
   "metadata": {},
   "outputs": [
    {
     "data": {
      "text/html": [
       "<div>\n",
       "<style scoped>\n",
       "    .dataframe tbody tr th:only-of-type {\n",
       "        vertical-align: middle;\n",
       "    }\n",
       "\n",
       "    .dataframe tbody tr th {\n",
       "        vertical-align: top;\n",
       "    }\n",
       "\n",
       "    .dataframe thead th {\n",
       "        text-align: right;\n",
       "    }\n",
       "</style>\n",
       "<table border=\"1\" class=\"dataframe\">\n",
       "  <thead>\n",
       "    <tr style=\"text-align: right;\">\n",
       "      <th></th>\n",
       "      <th>Title</th>\n",
       "      <th>Author</th>\n",
       "      <th>Edition</th>\n",
       "      <th>Reviews</th>\n",
       "      <th>Ratings</th>\n",
       "      <th>Synopsis</th>\n",
       "      <th>Genre</th>\n",
       "      <th>BookCategory</th>\n",
       "      <th>Price</th>\n",
       "    </tr>\n",
       "  </thead>\n",
       "  <tbody>\n",
       "    <tr>\n",
       "      <th>0</th>\n",
       "      <td>The Prisoner's Gold (The Hunters 3)</td>\n",
       "      <td>Chris Kuzneski</td>\n",
       "      <td>Paperback,– 10 Mar 2016</td>\n",
       "      <td>4.0 out of 5 stars</td>\n",
       "      <td>8 customer reviews</td>\n",
       "      <td>THE HUNTERS return in their third brilliant no...</td>\n",
       "      <td>Action &amp; Adventure (Books)</td>\n",
       "      <td>Action &amp; Adventure</td>\n",
       "      <td>220.00</td>\n",
       "    </tr>\n",
       "    <tr>\n",
       "      <th>1</th>\n",
       "      <td>Guru Dutt: A Tragedy in Three Acts</td>\n",
       "      <td>Arun Khopkar</td>\n",
       "      <td>Paperback,– 7 Nov 2012</td>\n",
       "      <td>3.9 out of 5 stars</td>\n",
       "      <td>14 customer reviews</td>\n",
       "      <td>A layered portrait of a troubled genius for wh...</td>\n",
       "      <td>Cinema &amp; Broadcast (Books)</td>\n",
       "      <td>Biographies, Diaries &amp; True Accounts</td>\n",
       "      <td>202.93</td>\n",
       "    </tr>\n",
       "    <tr>\n",
       "      <th>2</th>\n",
       "      <td>Leviathan (Penguin Classics)</td>\n",
       "      <td>Thomas Hobbes</td>\n",
       "      <td>Paperback,– 25 Feb 1982</td>\n",
       "      <td>4.8 out of 5 stars</td>\n",
       "      <td>6 customer reviews</td>\n",
       "      <td>\"During the time men live without a common Pow...</td>\n",
       "      <td>International Relations</td>\n",
       "      <td>Humour</td>\n",
       "      <td>299.00</td>\n",
       "    </tr>\n",
       "  </tbody>\n",
       "</table>\n",
       "</div>"
      ],
      "text/plain": [
       "                                 Title          Author  \\\n",
       "0  The Prisoner's Gold (The Hunters 3)  Chris Kuzneski   \n",
       "1   Guru Dutt: A Tragedy in Three Acts    Arun Khopkar   \n",
       "2         Leviathan (Penguin Classics)   Thomas Hobbes   \n",
       "\n",
       "                   Edition             Reviews              Ratings  \\\n",
       "0  Paperback,– 10 Mar 2016  4.0 out of 5 stars   8 customer reviews   \n",
       "1   Paperback,– 7 Nov 2012  3.9 out of 5 stars  14 customer reviews   \n",
       "2  Paperback,– 25 Feb 1982  4.8 out of 5 stars   6 customer reviews   \n",
       "\n",
       "                                            Synopsis  \\\n",
       "0  THE HUNTERS return in their third brilliant no...   \n",
       "1  A layered portrait of a troubled genius for wh...   \n",
       "2  \"During the time men live without a common Pow...   \n",
       "\n",
       "                        Genre                          BookCategory   Price  \n",
       "0  Action & Adventure (Books)                    Action & Adventure  220.00  \n",
       "1  Cinema & Broadcast (Books)  Biographies, Diaries & True Accounts  202.93  \n",
       "2     International Relations                                Humour  299.00  "
      ]
     },
     "execution_count": 4,
     "metadata": {},
     "output_type": "execute_result"
    }
   ],
   "source": [
    "train.head(3)"
   ]
  },
  {
   "cell_type": "markdown",
   "metadata": {},
   "source": [
    "After proper examination of each columns, our columns of intrest are\n",
    "<ul>\n",
    "    <li>Edition</li>\n",
    "    <li>Reviews</li>\n",
    "    <li>Ratings</li>\n",
    "    <li>Book Category</li>\n",
    "    <li>Price</li>\n",
    "</ul>\n",
    "\n",
    "So our next couple of cells focuses on how the columns of intrest were cleaned and prepared for analysis"
   ]
  },
  {
   "cell_type": "markdown",
   "metadata": {},
   "source": [
    "### Cleaning Edition Column"
   ]
  },
  {
   "cell_type": "code",
   "execution_count": 6,
   "metadata": {},
   "outputs": [],
   "source": [
    "#deriving date of edition columns for each books written by provided authors\n",
    "import re\n",
    "date_regex = re.compile(r'([\\d]+[\\D]+[\\d]{4})', flags= re.IGNORECASE)\n",
    "\n",
    "train['date_of_edition'] = train.loc[:, 'Edition'].str.extract(date_regex, expand = False)\n",
    "test['date_of_edition'] = test.loc[:, 'Edition'].str.extract(date_regex, expand = False)"
   ]
  },
  {
   "cell_type": "code",
   "execution_count": 7,
   "metadata": {},
   "outputs": [],
   "source": [
    "#deriving column for the each book cover type\n",
    "import re\n",
    "book_regex = re.compile(r'(Paperback|Hardcover)', flags= re.IGNORECASE)\n",
    "\n",
    "train['book_cover_type'] = train.loc[:, 'Edition'].str.extract(book_regex, expand = False)\n",
    "test['book_cover_type'] = test.loc[:, 'Edition'].str.extract(book_regex, expand = False)"
   ]
  },
  {
   "cell_type": "code",
   "execution_count": 8,
   "metadata": {},
   "outputs": [
    {
     "data": {
      "text/html": [
       "<div>\n",
       "<style scoped>\n",
       "    .dataframe tbody tr th:only-of-type {\n",
       "        vertical-align: middle;\n",
       "    }\n",
       "\n",
       "    .dataframe tbody tr th {\n",
       "        vertical-align: top;\n",
       "    }\n",
       "\n",
       "    .dataframe thead th {\n",
       "        text-align: right;\n",
       "    }\n",
       "</style>\n",
       "<table border=\"1\" class=\"dataframe\">\n",
       "  <thead>\n",
       "    <tr style=\"text-align: right;\">\n",
       "      <th></th>\n",
       "      <th>Title</th>\n",
       "      <th>Author</th>\n",
       "      <th>Edition</th>\n",
       "      <th>Reviews</th>\n",
       "      <th>Ratings</th>\n",
       "      <th>Synopsis</th>\n",
       "      <th>Genre</th>\n",
       "      <th>BookCategory</th>\n",
       "      <th>Price</th>\n",
       "      <th>date_of_edition</th>\n",
       "      <th>book_cover_type</th>\n",
       "    </tr>\n",
       "  </thead>\n",
       "  <tbody>\n",
       "    <tr>\n",
       "      <th>0</th>\n",
       "      <td>The Prisoner's Gold (The Hunters 3)</td>\n",
       "      <td>Chris Kuzneski</td>\n",
       "      <td>Paperback,– 10 Mar 2016</td>\n",
       "      <td>4.0 out of 5 stars</td>\n",
       "      <td>8 customer reviews</td>\n",
       "      <td>THE HUNTERS return in their third brilliant no...</td>\n",
       "      <td>Action &amp; Adventure (Books)</td>\n",
       "      <td>Action &amp; Adventure</td>\n",
       "      <td>220.00</td>\n",
       "      <td>10 Mar 2016</td>\n",
       "      <td>Paperback</td>\n",
       "    </tr>\n",
       "    <tr>\n",
       "      <th>1</th>\n",
       "      <td>Guru Dutt: A Tragedy in Three Acts</td>\n",
       "      <td>Arun Khopkar</td>\n",
       "      <td>Paperback,– 7 Nov 2012</td>\n",
       "      <td>3.9 out of 5 stars</td>\n",
       "      <td>14 customer reviews</td>\n",
       "      <td>A layered portrait of a troubled genius for wh...</td>\n",
       "      <td>Cinema &amp; Broadcast (Books)</td>\n",
       "      <td>Biographies, Diaries &amp; True Accounts</td>\n",
       "      <td>202.93</td>\n",
       "      <td>7 Nov 2012</td>\n",
       "      <td>Paperback</td>\n",
       "    </tr>\n",
       "  </tbody>\n",
       "</table>\n",
       "</div>"
      ],
      "text/plain": [
       "                                 Title          Author  \\\n",
       "0  The Prisoner's Gold (The Hunters 3)  Chris Kuzneski   \n",
       "1   Guru Dutt: A Tragedy in Three Acts    Arun Khopkar   \n",
       "\n",
       "                   Edition             Reviews              Ratings  \\\n",
       "0  Paperback,– 10 Mar 2016  4.0 out of 5 stars   8 customer reviews   \n",
       "1   Paperback,– 7 Nov 2012  3.9 out of 5 stars  14 customer reviews   \n",
       "\n",
       "                                            Synopsis  \\\n",
       "0  THE HUNTERS return in their third brilliant no...   \n",
       "1  A layered portrait of a troubled genius for wh...   \n",
       "\n",
       "                        Genre                          BookCategory   Price  \\\n",
       "0  Action & Adventure (Books)                    Action & Adventure  220.00   \n",
       "1  Cinema & Broadcast (Books)  Biographies, Diaries & True Accounts  202.93   \n",
       "\n",
       "  date_of_edition book_cover_type  \n",
       "0     10 Mar 2016       Paperback  \n",
       "1      7 Nov 2012       Paperback  "
      ]
     },
     "execution_count": 8,
     "metadata": {},
     "output_type": "execute_result"
    }
   ],
   "source": [
    "train.head(2)"
   ]
  },
  {
   "cell_type": "markdown",
   "metadata": {},
   "source": [
    "### Cleaning up Reviews column"
   ]
  },
  {
   "cell_type": "code",
   "execution_count": 10,
   "metadata": {},
   "outputs": [
    {
     "data": {
      "text/plain": [
       "'4.0 out of 5 stars'"
      ]
     },
     "execution_count": 10,
     "metadata": {},
     "output_type": "execute_result"
    }
   ],
   "source": [
    "train.loc[0,'Reviews']"
   ]
  },
  {
   "cell_type": "code",
   "execution_count": 11,
   "metadata": {},
   "outputs": [],
   "source": [
    "#Extracting columns for reviews\n",
    "train['review_rate'] = train.loc[:, 'Reviews'].str.extract(pat = '(\\d.\\d)', expand = False)\n",
    "test['review_rate'] = test.loc[:, 'Reviews'].str.extract(pat = '(\\d.\\d)', expand = False)"
   ]
  },
  {
   "cell_type": "markdown",
   "metadata": {},
   "source": [
    "### Cleaning up Rating Column"
   ]
  },
  {
   "cell_type": "code",
   "execution_count": 12,
   "metadata": {},
   "outputs": [
    {
     "data": {
      "text/plain": [
       "'8 customer reviews'"
      ]
     },
     "execution_count": 12,
     "metadata": {},
     "output_type": "execute_result"
    }
   ],
   "source": [
    "train.loc[0,'Ratings']"
   ]
  },
  {
   "cell_type": "code",
   "execution_count": 13,
   "metadata": {},
   "outputs": [],
   "source": [
    "#Extracting columns for ratingss\n",
    "train['readers_rating'] = train.loc[:, 'Ratings'].str.extract(pat = '(\\d)', expand  = False)\n",
    "test['readers_rating'] = test.loc[:, 'Ratings'].str.extract(pat = '(\\d)', expand  = False)"
   ]
  },
  {
   "cell_type": "markdown",
   "metadata": {},
   "source": [
    "### Cleaning up Date of Edition Column"
   ]
  },
  {
   "cell_type": "code",
   "execution_count": 14,
   "metadata": {},
   "outputs": [],
   "source": [
    "import datetime as dt\n",
    "train['date_of_edition'] = train['date_of_edition'].astype('datetime64[ns]')\n",
    "test['date_of_edition'] = test['date_of_edition'].astype('datetime64[ns]')"
   ]
  },
  {
   "cell_type": "code",
   "execution_count": 15,
   "metadata": {},
   "outputs": [],
   "source": [
    "#deriving the year\n",
    "train['year'] = train.loc[:, 'date_of_edition'].dt.year\n",
    "test['year'] = test.loc[:, 'date_of_edition'].dt.year\n",
    "\n",
    "#deriving the month\n",
    "train['month'] = train.loc[:, 'date_of_edition'].dt.month\n",
    "test['month'] = test.loc[:, 'date_of_edition'].dt.month"
   ]
  },
  {
   "cell_type": "code",
   "execution_count": 16,
   "metadata": {},
   "outputs": [
    {
     "data": {
      "text/html": [
       "<div>\n",
       "<style scoped>\n",
       "    .dataframe tbody tr th:only-of-type {\n",
       "        vertical-align: middle;\n",
       "    }\n",
       "\n",
       "    .dataframe tbody tr th {\n",
       "        vertical-align: top;\n",
       "    }\n",
       "\n",
       "    .dataframe thead th {\n",
       "        text-align: right;\n",
       "    }\n",
       "</style>\n",
       "<table border=\"1\" class=\"dataframe\">\n",
       "  <thead>\n",
       "    <tr style=\"text-align: right;\">\n",
       "      <th></th>\n",
       "      <th>Title</th>\n",
       "      <th>Author</th>\n",
       "      <th>Edition</th>\n",
       "      <th>Reviews</th>\n",
       "      <th>Ratings</th>\n",
       "      <th>Synopsis</th>\n",
       "      <th>Genre</th>\n",
       "      <th>BookCategory</th>\n",
       "      <th>Price</th>\n",
       "      <th>date_of_edition</th>\n",
       "      <th>book_cover_type</th>\n",
       "      <th>review_rate</th>\n",
       "      <th>readers_rating</th>\n",
       "      <th>year</th>\n",
       "      <th>month</th>\n",
       "    </tr>\n",
       "  </thead>\n",
       "  <tbody>\n",
       "    <tr>\n",
       "      <th>0</th>\n",
       "      <td>The Prisoner's Gold (The Hunters 3)</td>\n",
       "      <td>Chris Kuzneski</td>\n",
       "      <td>Paperback,– 10 Mar 2016</td>\n",
       "      <td>4.0 out of 5 stars</td>\n",
       "      <td>8 customer reviews</td>\n",
       "      <td>THE HUNTERS return in their third brilliant no...</td>\n",
       "      <td>Action &amp; Adventure (Books)</td>\n",
       "      <td>Action &amp; Adventure</td>\n",
       "      <td>220.0</td>\n",
       "      <td>2016-03-10</td>\n",
       "      <td>Paperback</td>\n",
       "      <td>4.0</td>\n",
       "      <td>8</td>\n",
       "      <td>2016.0</td>\n",
       "      <td>3.0</td>\n",
       "    </tr>\n",
       "  </tbody>\n",
       "</table>\n",
       "</div>"
      ],
      "text/plain": [
       "                                 Title          Author  \\\n",
       "0  The Prisoner's Gold (The Hunters 3)  Chris Kuzneski   \n",
       "\n",
       "                   Edition             Reviews             Ratings  \\\n",
       "0  Paperback,– 10 Mar 2016  4.0 out of 5 stars  8 customer reviews   \n",
       "\n",
       "                                            Synopsis  \\\n",
       "0  THE HUNTERS return in their third brilliant no...   \n",
       "\n",
       "                        Genre        BookCategory  Price date_of_edition  \\\n",
       "0  Action & Adventure (Books)  Action & Adventure  220.0      2016-03-10   \n",
       "\n",
       "  book_cover_type review_rate readers_rating    year  month  \n",
       "0       Paperback         4.0              8  2016.0    3.0  "
      ]
     },
     "execution_count": 16,
     "metadata": {},
     "output_type": "execute_result"
    }
   ],
   "source": [
    "train.head(1)"
   ]
  },
  {
   "cell_type": "markdown",
   "metadata": {},
   "source": [
    "After proper cleaning we have been able to create neccessary columns to derive insight from the data provided. list of columns created include:\n",
    "<ul>\n",
    "    <li>date_of_edition</li>\n",
    "    <li>book_cover_type</li>\n",
    "    <li>review_rate</li>\n",
    "    <li>readers_rating</li>\n",
    "    <li>year</li>\n",
    "    <li>month</li>\n",
    "    \n",
    "</ul>\n",
    "\n",
    "Our next cells shows how we handled missing values in each cloumns after dropping irrelevant columns for the analysis"
   ]
  },
  {
   "cell_type": "markdown",
   "metadata": {},
   "source": [
    "### Handling Missing Values "
   ]
  },
  {
   "cell_type": "code",
   "execution_count": 19,
   "metadata": {},
   "outputs": [
    {
     "data": {
      "text/plain": [
       "Title                0\n",
       "Author               0\n",
       "Edition              0\n",
       "Reviews              0\n",
       "Ratings              0\n",
       "Synopsis             0\n",
       "Genre                0\n",
       "BookCategory         0\n",
       "Price                0\n",
       "date_of_edition    452\n",
       "book_cover_type     61\n",
       "review_rate          0\n",
       "readers_rating       0\n",
       "year               452\n",
       "month              452\n",
       "dtype: int64"
      ]
     },
     "execution_count": 19,
     "metadata": {},
     "output_type": "execute_result"
    }
   ],
   "source": [
    "train.isnull().sum()"
   ]
  },
  {
   "cell_type": "markdown",
   "metadata": {},
   "source": [
    "we have four columns with missing values [date_of_edition, book_cover_type, year and month]\n",
    "\n",
    "<b>Note:</b> handling of missing values can be of different strategy, based on the analysis involved, on this project am replacing null values in each columns with \"not specified\""
   ]
  },
  {
   "cell_type": "code",
   "execution_count": 20,
   "metadata": {},
   "outputs": [
    {
     "data": {
      "text/plain": [
       "Index(['Title', 'Author', 'Edition', 'Reviews', 'Ratings', 'Synopsis', 'Genre',\n",
       "       'BookCategory', 'Price', 'date_of_edition', 'book_cover_type',\n",
       "       'review_rate', 'readers_rating', 'year', 'month'],\n",
       "      dtype='object')"
      ]
     },
     "execution_count": 20,
     "metadata": {},
     "output_type": "execute_result"
    }
   ],
   "source": [
    "train.columns"
   ]
  },
  {
   "cell_type": "code",
   "execution_count": 21,
   "metadata": {},
   "outputs": [],
   "source": [
    "coln = ['Edition', 'Reviews', 'Ratings', 'Synopsis', 'Genre']\n",
    "for x in coln:\n",
    "    train = train.drop([x], axis = 1)\n",
    "    test = test.drop([x], axis = 1)"
   ]
  },
  {
   "cell_type": "code",
   "execution_count": 23,
   "metadata": {},
   "outputs": [
    {
     "data": {
      "text/html": [
       "<div>\n",
       "<style scoped>\n",
       "    .dataframe tbody tr th:only-of-type {\n",
       "        vertical-align: middle;\n",
       "    }\n",
       "\n",
       "    .dataframe tbody tr th {\n",
       "        vertical-align: top;\n",
       "    }\n",
       "\n",
       "    .dataframe thead th {\n",
       "        text-align: right;\n",
       "    }\n",
       "</style>\n",
       "<table border=\"1\" class=\"dataframe\">\n",
       "  <thead>\n",
       "    <tr style=\"text-align: right;\">\n",
       "      <th></th>\n",
       "      <th>Title</th>\n",
       "      <th>Author</th>\n",
       "      <th>BookCategory</th>\n",
       "      <th>Price</th>\n",
       "      <th>date_of_edition</th>\n",
       "      <th>book_cover_type</th>\n",
       "      <th>review_rate</th>\n",
       "      <th>readers_rating</th>\n",
       "      <th>year</th>\n",
       "      <th>month</th>\n",
       "    </tr>\n",
       "  </thead>\n",
       "  <tbody>\n",
       "    <tr>\n",
       "      <th>0</th>\n",
       "      <td>The Prisoner's Gold (The Hunters 3)</td>\n",
       "      <td>Chris Kuzneski</td>\n",
       "      <td>Action &amp; Adventure</td>\n",
       "      <td>220.00</td>\n",
       "      <td>2016-03-10</td>\n",
       "      <td>Paperback</td>\n",
       "      <td>4.0</td>\n",
       "      <td>8</td>\n",
       "      <td>2016.0</td>\n",
       "      <td>3.0</td>\n",
       "    </tr>\n",
       "    <tr>\n",
       "      <th>1</th>\n",
       "      <td>Guru Dutt: A Tragedy in Three Acts</td>\n",
       "      <td>Arun Khopkar</td>\n",
       "      <td>Biographies, Diaries &amp; True Accounts</td>\n",
       "      <td>202.93</td>\n",
       "      <td>2012-11-07</td>\n",
       "      <td>Paperback</td>\n",
       "      <td>3.9</td>\n",
       "      <td>1</td>\n",
       "      <td>2012.0</td>\n",
       "      <td>11.0</td>\n",
       "    </tr>\n",
       "  </tbody>\n",
       "</table>\n",
       "</div>"
      ],
      "text/plain": [
       "                                 Title          Author  \\\n",
       "0  The Prisoner's Gold (The Hunters 3)  Chris Kuzneski   \n",
       "1   Guru Dutt: A Tragedy in Three Acts    Arun Khopkar   \n",
       "\n",
       "                           BookCategory   Price date_of_edition  \\\n",
       "0                    Action & Adventure  220.00      2016-03-10   \n",
       "1  Biographies, Diaries & True Accounts  202.93      2012-11-07   \n",
       "\n",
       "  book_cover_type review_rate readers_rating    year  month  \n",
       "0       Paperback         4.0              8  2016.0    3.0  \n",
       "1       Paperback         3.9              1  2012.0   11.0  "
      ]
     },
     "execution_count": 23,
     "metadata": {},
     "output_type": "execute_result"
    }
   ],
   "source": [
    "train.head(2)"
   ]
  },
  {
   "cell_type": "code",
   "execution_count": 24,
   "metadata": {},
   "outputs": [
    {
     "data": {
      "text/plain": [
       "Title              0\n",
       "Author             0\n",
       "BookCategory       0\n",
       "Price              0\n",
       "date_of_edition    0\n",
       "book_cover_type    0\n",
       "review_rate        0\n",
       "readers_rating     0\n",
       "year               0\n",
       "month              0\n",
       "dtype: int64"
      ]
     },
     "execution_count": 24,
     "metadata": {},
     "output_type": "execute_result"
    }
   ],
   "source": [
    "fill_miss = {'date_of_edition': 'not specified', 'book_cover_type': 'not specified',\n",
    "            'year': 'not specified', 'month': 'not specified'}\n",
    "\n",
    "train.fillna(fill_miss, inplace = True)\n",
    "test.fillna(fill_miss, inplace = True)\n",
    "\n",
    "train.isnull().sum()"
   ]
  },
  {
   "cell_type": "code",
   "execution_count": 30,
   "metadata": {},
   "outputs": [],
   "source": [
    "#save our clean data set to csv file and excel file for further analysis on PowerBi software and also on python software\n",
    "train.to_csv('new_train.csv', index = False)\n",
    "test.to_csv('new_test.csv', index = False)\n",
    "\n",
    "train.to_excel('trainexcel.xlsx', index = False)\n",
    "test.to_excel('testexcel.xlsx', index = False)"
   ]
  },
  {
   "cell_type": "code",
   "execution_count": null,
   "metadata": {},
   "outputs": [],
   "source": []
  }
 ],
 "metadata": {
  "kernelspec": {
   "display_name": "Python 3",
   "language": "python",
   "name": "python3"
  },
  "language_info": {
   "codemirror_mode": {
    "name": "ipython",
    "version": 3
   },
   "file_extension": ".py",
   "mimetype": "text/x-python",
   "name": "python",
   "nbconvert_exporter": "python",
   "pygments_lexer": "ipython3",
   "version": "3.7.1"
  }
 },
 "nbformat": 4,
 "nbformat_minor": 2
}
